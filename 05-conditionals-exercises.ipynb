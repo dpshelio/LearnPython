{
 "cells": [
  {
   "cell_type": "markdown",
   "metadata": {},
   "source": [
    "# 1st exercise\n",
    "\n",
    "- Prints \"Yay, summer!\" when the temperature is above 20 degrees\n",
    "\n",
    "- Prints \"Summer is going away...\" when the temperature is between 10 and 20 degrees\n",
    "\n",
    "- Prints \"I bet you it's gonna rain today\" when the temperature is below 10"
   ]
  },
  {
   "cell_type": "code",
   "execution_count": 8,
   "metadata": {},
   "outputs": [
    {
     "name": "stdout",
     "output_type": "stream",
     "text": [
      "Yay, summer\n"
     ]
    }
   ],
   "source": [
    "temperature = 27\n",
    "\n",
    "if temperature > 20:\n",
    "    print(\"Yay, summer\")\n",
    "elif temperature < 10:\n",
    "    print(\"rain\")\n",
    "else:\n",
    "    print(\"Summer is going away\")\n"
   ]
  },
  {
   "cell_type": "code",
   "execution_count": null,
   "metadata": {},
   "outputs": [],
   "source": []
  }
 ],
 "metadata": {
  "kernelspec": {
   "display_name": "Python 3",
   "language": "python",
   "name": "python3"
  },
  "language_info": {
   "codemirror_mode": {
    "name": "ipython",
    "version": 3
   },
   "file_extension": ".py",
   "mimetype": "text/x-python",
   "name": "python",
   "nbconvert_exporter": "python",
   "pygments_lexer": "ipython3",
   "version": "3.6.2"
  }
 },
 "nbformat": 4,
 "nbformat_minor": 2
}
